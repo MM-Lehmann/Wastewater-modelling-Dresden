{
 "cells": [
  {
   "cell_type": "code",
   "execution_count": 1,
   "metadata": {},
   "outputs": [],
   "source": [
    "import pandas as pd\n",
    "from joblib import Memory\n",
    "from datetime import datetime\n",
    "memory = Memory(f\"cachedir/{datetime.today().date()}\", compress=True)\n",
    "\n",
    "@memory.cache\n",
    "def cached_read(url):\n",
    "    return pd.read_csv(url)"
   ]
  },
  {
   "cell_type": "code",
   "execution_count": 2,
   "metadata": {},
   "outputs": [
    {
     "name": "stdout",
     "output_type": "stream",
     "text": [
      "________________________________________________________________________________\n",
      "[Memory] Calling __main__--tmp-ipykernel-4239711195.cached_read...\n",
      "cached_read('https://raw.githubusercontent.com/robert-koch-institut/COVID-19-Impfungen_in_Deutschland/master/Aktuell_Deutschland_Landkreise_COVID-19-Impfungen.csv')\n"
     ]
    },
    {
     "name": "stderr",
     "output_type": "stream",
     "text": [
      "/tmp/ipykernel_1720/4239711195.py:8: DtypeWarning: Columns (1) have mixed types. Specify dtype option on import or set low_memory=False.\n",
      "  return pd.read_csv(url)\n"
     ]
    },
    {
     "name": "stdout",
     "output_type": "stream",
     "text": [
      "______________________________________________________cached_read - 5.3s, 0.1min\n"
     ]
    },
    {
     "data": {
      "text/html": [
       "<div>\n",
       "<style scoped>\n",
       "    .dataframe tbody tr th:only-of-type {\n",
       "        vertical-align: middle;\n",
       "    }\n",
       "\n",
       "    .dataframe tbody tr th {\n",
       "        vertical-align: top;\n",
       "    }\n",
       "\n",
       "    .dataframe thead th {\n",
       "        text-align: right;\n",
       "    }\n",
       "</style>\n",
       "<table border=\"1\" class=\"dataframe\">\n",
       "  <thead>\n",
       "    <tr style=\"text-align: right;\">\n",
       "      <th></th>\n",
       "      <th>Impfdatum</th>\n",
       "      <th>LandkreisId_Impfort</th>\n",
       "      <th>Altersgruppe</th>\n",
       "      <th>Impfschutz</th>\n",
       "      <th>Anzahl</th>\n",
       "    </tr>\n",
       "  </thead>\n",
       "  <tbody>\n",
       "    <tr>\n",
       "      <th>0</th>\n",
       "      <td>2020-12-27</td>\n",
       "      <td>1003</td>\n",
       "      <td>18-59</td>\n",
       "      <td>1</td>\n",
       "      <td>9</td>\n",
       "    </tr>\n",
       "    <tr>\n",
       "      <th>1</th>\n",
       "      <td>2020-12-27</td>\n",
       "      <td>1003</td>\n",
       "      <td>60+</td>\n",
       "      <td>1</td>\n",
       "      <td>19</td>\n",
       "    </tr>\n",
       "    <tr>\n",
       "      <th>2</th>\n",
       "      <td>2020-12-27</td>\n",
       "      <td>1053</td>\n",
       "      <td>18-59</td>\n",
       "      <td>1</td>\n",
       "      <td>13</td>\n",
       "    </tr>\n",
       "    <tr>\n",
       "      <th>3</th>\n",
       "      <td>2020-12-27</td>\n",
       "      <td>1053</td>\n",
       "      <td>60+</td>\n",
       "      <td>1</td>\n",
       "      <td>200</td>\n",
       "    </tr>\n",
       "    <tr>\n",
       "      <th>4</th>\n",
       "      <td>2020-12-27</td>\n",
       "      <td>1055</td>\n",
       "      <td>18-59</td>\n",
       "      <td>1</td>\n",
       "      <td>20</td>\n",
       "    </tr>\n",
       "    <tr>\n",
       "      <th>...</th>\n",
       "      <td>...</td>\n",
       "      <td>...</td>\n",
       "      <td>...</td>\n",
       "      <td>...</td>\n",
       "      <td>...</td>\n",
       "    </tr>\n",
       "    <tr>\n",
       "      <th>933588</th>\n",
       "      <td>2022-03-27</td>\n",
       "      <td>15088</td>\n",
       "      <td>12-17</td>\n",
       "      <td>2</td>\n",
       "      <td>9</td>\n",
       "    </tr>\n",
       "    <tr>\n",
       "      <th>933589</th>\n",
       "      <td>2022-03-27</td>\n",
       "      <td>15088</td>\n",
       "      <td>18-59</td>\n",
       "      <td>3</td>\n",
       "      <td>5</td>\n",
       "    </tr>\n",
       "    <tr>\n",
       "      <th>933590</th>\n",
       "      <td>2022-03-27</td>\n",
       "      <td>16072</td>\n",
       "      <td>12-17</td>\n",
       "      <td>3</td>\n",
       "      <td>7</td>\n",
       "    </tr>\n",
       "    <tr>\n",
       "      <th>933591</th>\n",
       "      <td>2022-03-27</td>\n",
       "      <td>16072</td>\n",
       "      <td>18-59</td>\n",
       "      <td>3</td>\n",
       "      <td>22</td>\n",
       "    </tr>\n",
       "    <tr>\n",
       "      <th>933592</th>\n",
       "      <td>2022-03-27</td>\n",
       "      <td>16072</td>\n",
       "      <td>60+</td>\n",
       "      <td>3</td>\n",
       "      <td>10</td>\n",
       "    </tr>\n",
       "  </tbody>\n",
       "</table>\n",
       "<p>933593 rows × 5 columns</p>\n",
       "</div>"
      ],
      "text/plain": [
       "         Impfdatum LandkreisId_Impfort Altersgruppe  Impfschutz  Anzahl\n",
       "0       2020-12-27                1003        18-59           1       9\n",
       "1       2020-12-27                1003          60+           1      19\n",
       "2       2020-12-27                1053        18-59           1      13\n",
       "3       2020-12-27                1053          60+           1     200\n",
       "4       2020-12-27                1055        18-59           1      20\n",
       "...            ...                 ...          ...         ...     ...\n",
       "933588  2022-03-27               15088        12-17           2       9\n",
       "933589  2022-03-27               15088        18-59           3       5\n",
       "933590  2022-03-27               16072        12-17           3       7\n",
       "933591  2022-03-27               16072        18-59           3      22\n",
       "933592  2022-03-27               16072          60+           3      10\n",
       "\n",
       "[933593 rows x 5 columns]"
      ]
     },
     "execution_count": 2,
     "metadata": {},
     "output_type": "execute_result"
    }
   ],
   "source": [
    "## load\n",
    "df = cached_read(\"https://raw.githubusercontent.com/robert-koch-institut/COVID-19-Impfungen_in_Deutschland/master/Aktuell_Deutschland_Landkreise_COVID-19-Impfungen.csv\")\n",
    "df"
   ]
  },
  {
   "cell_type": "code",
   "execution_count": 3,
   "metadata": {},
   "outputs": [
    {
     "data": {
      "text/plain": [
       "<AxesSubplot:xlabel='Impfdatum'>"
      ]
     },
     "execution_count": 3,
     "metadata": {},
     "output_type": "execute_result"
    },
    {
     "data": {
      "image/png": "[encoded data removed]",
      "text/plain": [
       "<Figure size 1080x432 with 1 Axes>"
      ]
     },
     "metadata": {
      "needs_background": "light"
     },
     "output_type": "display_data"
    }
   ],
   "source": [
    "## tranform\n",
    "df2 = df.copy()\n",
    "df2[\"LandkreisId_Impfort\"] = df2.LandkreisId_Impfort.astype(int, errors=\"ignore\")\n",
    "df2 = df2[((df2.LandkreisId_Impfort == 14612) | (df2.LandkreisId_Impfort == \"14612\")) & (df2.Impfschutz >= 2)]\n",
    "\n",
    "# df2.set_index((\"Impfdatum\"), inplace=True)\n",
    "df2[\"Doppelt\"] = df2[df2.Impfschutz == 2][\"Anzahl\"]\n",
    "df2[\"Booster\"] = df2[df2.Impfschutz == 3][\"Anzahl\"]\n",
    "df2 = df2.filter((\"Impfdatum\",\"Doppelt\", \"Booster\"))\n",
    "df2 = df2.groupby(\"Impfdatum\").sum().cumsum() / 561000\n",
    "# df2 = df2.groupby([\"Impfdatum\", \"Altersgruppe\"]).sum().groupby(\"Altersgruppe\").cumsum()#.rolling(180, min_periods=1).sum()\n",
    "# df2[\"geimpft\"] = df2[\"Doppelt\"] + df2[\"Booster\"]\n",
    "# df2[\"doppelt_anteil\"] = df2[\"Doppelt\"] / 561000\n",
    "# df2[\"booster_anteil\"] = df2[\"Booster\"] / 561000\n",
    "# df2.groupby(\"Altersgruppe\").plot(y=(\"doppelt_anteil\", \"booster_anteil\"))\n",
    "# df2 = df2.reset_index().pivot_table(index=\"Impfdatum\", columns=\"Altersgruppe\")\n",
    "# df2.index = pd.to_datetime(df2.index)\n",
    "# df2 = df2.interpolate(\"time\", axis=0).fillna(0)\n",
    "# df2.columns = [' '.join(col).strip() for col in df2.columns.values]\n",
    "df2.plot(figsize=(15,6))"
   ]
  },
  {
   "cell_type": "code",
   "execution_count": 4,
   "metadata": {},
   "outputs": [],
   "source": [
    "## save to csv\n",
    "df2.to_csv(\"Dresden_Impfungen.csv\")"
   ]
  }
 ],
 "metadata": {
  "interpreter": {
   "hash": "86285444acb2e6f3a3facc8fa05acc57a59797181b819dfcb7bebb9d53ba8e7d"
  },
  "kernelspec": {
   "display_name": "Python 3.8.10 ('venv': venv)",
   "language": "python",
   "name": "python3"
  },
  "language_info": {
   "codemirror_mode": {
    "name": "ipython",
    "version": 3
   },
   "file_extension": ".py",
   "mimetype": "text/x-python",
   "name": "python",
   "nbconvert_exporter": "python",
   "pygments_lexer": "ipython3",
   "version": "3.8.10"
  },
  "orig_nbformat": 4
 },
 "nbformat": 4,
 "nbformat_minor": 2
}
